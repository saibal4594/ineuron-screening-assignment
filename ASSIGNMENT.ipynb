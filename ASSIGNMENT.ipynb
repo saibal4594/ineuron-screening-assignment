{
 "cells": [
  {
   "cell_type": "markdown",
   "id": "3371bd6e",
   "metadata": {},
   "source": [
    "# 1. Create a function in python to read the text file and replace specific content of the file.\n"
   ]
  },
  {
   "cell_type": "code",
   "execution_count": 134,
   "id": "2ce100ac",
   "metadata": {},
   "outputs": [],
   "source": [
    "#let's create the txt file\n",
    "f=open(\"example.txt\",\"x\")\n"
   ]
  },
  {
   "cell_type": "code",
   "execution_count": 136,
   "id": "96679ce2",
   "metadata": {},
   "outputs": [
    {
     "data": {
      "text/plain": [
       "30"
      ]
     },
     "execution_count": 136,
     "metadata": {},
     "output_type": "execute_result"
    }
   ],
   "source": [
    "#let's write the string mentioned in assignment\n",
    "file=open(\"example.txt\",\"w+\")\n",
    "file.write(\"This is a placement assignment\")\n"
   ]
  },
  {
   "cell_type": "code",
   "execution_count": 137,
   "id": "460da52a",
   "metadata": {},
   "outputs": [],
   "source": [
    "#let's change the string with a function\n",
    "def replacement(old_string,new_string):\n",
    "    with open(r\"example.txt\",\"r\") as file_1:\n",
    "        content=file_1.read()\n",
    "        content=content.replace(old_string,new_string)\n",
    "        \n",
    "        \n",
    "        \n",
    "    with open(\"example.txt\",\"w+\") as file_1:\n",
    "        file_1.write(content)\n",
    "        print(\"content:\",content)\n",
    "    print(\"replacement done successfully\")"
   ]
  },
  {
   "cell_type": "code",
   "execution_count": 138,
   "id": "4145be87",
   "metadata": {},
   "outputs": [
    {
     "name": "stdout",
     "output_type": "stream",
     "text": [
      "content: This is a screening assignment\n",
      "replacement done successfully\n"
     ]
    }
   ],
   "source": [
    "replacement(\"placement\",\"screening\")"
   ]
  },
  {
   "cell_type": "code",
   "execution_count": 139,
   "id": "e4bab8fd",
   "metadata": {},
   "outputs": [
    {
     "name": "stdout",
     "output_type": "stream",
     "text": [
      "This is a screening assignment\n"
     ]
    }
   ],
   "source": [
    "#let's check if it's done successfully or not\n",
    "with open(\"example.txt\") as text_file:\n",
    "    contents = text_file.read()\n",
    "print(contents)"
   ]
  },
  {
   "cell_type": "markdown",
   "id": "f8a3f4fa",
   "metadata": {},
   "source": [
    "# Demonstrate use of abstract class, multiple inheritance and decorator in python using examples\n"
   ]
  },
  {
   "cell_type": "markdown",
   "id": "ce79b204",
   "metadata": {},
   "source": [
    "# abstract class"
   ]
  },
  {
   "cell_type": "raw",
   "id": "41be1f2b",
   "metadata": {},
   "source": [
    "\n",
    "An abstract class is a class that cannot be instantiated in object-oriented programming. But we can design classes that derive from abstract classes. To design a framework for other classes, we utilise an abstract class. Abstract classes are not directly supported by Python. However, it does provide a module that enables the definition of abstract classes.\n",
    "\n",
    "The abc (abstract base class) module is used to define an abstract class.\n",
    "\n",
    "\n",
    "\n",
    "The infrastructure for defining abstract base classes is provided by the ABC module. For instance:"
   ]
  },
  {
   "cell_type": "code",
   "execution_count": 10,
   "id": "bdafac09",
   "metadata": {},
   "outputs": [],
   "source": [
    "from abc import ABC\n",
    "\n",
    "class AbstractClassName(ABC):\n",
    "    pass"
   ]
  },
  {
   "cell_type": "markdown",
   "id": "52378a77",
   "metadata": {},
   "source": [
    "ABC works by decorating methods of the base class as abstract and then registering concrete classes as implementations of \n",
    "the abstract base. A method becomes abstract when decorated with the keyword @abstractmethod. For Example – We are going \n",
    "to used Abstract class and method for showing different specifications of different types of quadrilaterals."
   ]
  },
  {
   "cell_type": "code",
   "execution_count": 2,
   "id": "6b7da317",
   "metadata": {},
   "outputs": [
    {
     "name": "stdout",
     "output_type": "stream",
     "text": [
      "Square has all sides equal and all angles having measure 90 degrees\n",
      "It has 4 sides and 4 angles\n",
      "Rectangle has opposite sides equal and all angles having measure 90 degrees\n",
      "It has 4 sides and 4 angles\n",
      "Parallelogram has opposite sides equal and sum of adjacent angles is equal to 180 degrees\n",
      "It has 4 sides and 4 angles\n"
     ]
    }
   ],
   "source": [
    "from abc import ABC, abstractmethod\n",
    "\n",
    "class Quadrilateral(ABC):\n",
    "\n",
    "    @abstractmethod\n",
    "    def specifications(self):\n",
    "        pass\n",
    "    \n",
    "    def sides(self1):\n",
    "        print(\"It has 4 sides and 4 angles\")\n",
    "\n",
    "class Square(Quadrilateral):\n",
    "    def specifications(self):\n",
    "        print(\"Square has all sides equal and all angles having measure 90 degrees\")\n",
    "\n",
    "class Rectangle(Quadrilateral):\n",
    "    def specifications(self):\n",
    "        print(\"Rectangle has opposite sides equal and all angles having measure 90 degrees\")\n",
    "\n",
    "class Parallelogram(Quadrilateral):\n",
    "    def specifications(self):\n",
    "        print(\"Parallelogram has opposite sides equal and sum of adjacent angles is equal to 180 degrees\")\n",
    "\n",
    "        \n",
    "\n",
    "S = Square()\n",
    "S.specifications()\n",
    "S.sides()\n",
    "\n",
    "R = Rectangle()\n",
    "R.specifications()\n",
    "R.sides()\n",
    "\n",
    "P = Parallelogram()\n",
    "P.specifications()\n",
    "P.sides()"
   ]
  },
  {
   "cell_type": "markdown",
   "id": "64cb3187",
   "metadata": {},
   "source": [
    "# Use of multiple inheritance in python:"
   ]
  },
  {
   "cell_type": "markdown",
   "id": "994f95dc",
   "metadata": {},
   "source": [
    "As one class (child class) can derive the properties of another class, inheritance is the method to enable code reuse (parent class). Additionally, it offers transitivity, meaning that if class C inherits from P, then all of class C's subclasses will likewise inherit from P.\n",
    "\n",
    "Multiple Inheritance: A class is said to have multiple inheritance when it derives from multiple base classes. The base case's features are all passed down to the derived class.\n",
    "\n",
    "Syntax:\n",
    "\n",
    "Class Base1: The class's body\n",
    "\n",
    "Class Base2: The class's body\n",
    "\n",
    "Class Derived: Body of the class (Base1, Base2)\n",
    "\n",
    "Below is an example of using multiple inheritance.Using multiple inheritance, I created a software that functions like a calculator. The different methods are defined in several parent classes, and the child class calci is descended from those parent classes so that we may use all of the calci class's methods.\n"
   ]
  },
  {
   "cell_type": "code",
   "execution_count": 3,
   "id": "4eca3192",
   "metadata": {},
   "outputs": [],
   "source": [
    "class parent1:\n",
    "    def addition(self,a,b):\n",
    "        return a+b\n",
    "    def subtraction(self,a,b):\n",
    "        return a-b\n",
    "    \n",
    "class parent2:\n",
    "    def multiplication(self,a,b):\n",
    "        return a*b\n",
    "    def division(self,a,b):\n",
    "        return a/b\n",
    "    \n",
    "class parent3:\n",
    "    def square(self,a):\n",
    "        return a**2\n",
    "    def cube(self,a):\n",
    "        return a**3\n",
    "        \n",
    "    \n",
    "class calci(parent1, parent2, parent3):\n",
    "    def functions(self):\n",
    "        print(\"It has 6 functions -> addition, subtraction, multiplication, division, square, cube\")"
   ]
  },
  {
   "cell_type": "code",
   "execution_count": 4,
   "id": "46c90953",
   "metadata": {},
   "outputs": [],
   "source": [
    "calci = calci()"
   ]
  },
  {
   "cell_type": "code",
   "execution_count": 5,
   "id": "46d70da9",
   "metadata": {},
   "outputs": [
    {
     "name": "stdout",
     "output_type": "stream",
     "text": [
      "It has 6 functions -> addition, subtraction, multiplication, division, square, cube\n"
     ]
    }
   ],
   "source": [
    "calci.functions()"
   ]
  },
  {
   "cell_type": "code",
   "execution_count": 6,
   "id": "2418d95a",
   "metadata": {},
   "outputs": [
    {
     "data": {
      "text/plain": [
       "7"
      ]
     },
     "execution_count": 6,
     "metadata": {},
     "output_type": "execute_result"
    }
   ],
   "source": [
    "calci.addition(3,4)"
   ]
  },
  {
   "cell_type": "code",
   "execution_count": 7,
   "id": "2da484a5",
   "metadata": {},
   "outputs": [
    {
     "data": {
      "text/plain": [
       "4"
      ]
     },
     "execution_count": 7,
     "metadata": {},
     "output_type": "execute_result"
    }
   ],
   "source": [
    "calci.subtraction(10,6)"
   ]
  },
  {
   "cell_type": "code",
   "execution_count": 8,
   "id": "fdfbe60a",
   "metadata": {},
   "outputs": [
    {
     "data": {
      "text/plain": [
       "14"
      ]
     },
     "execution_count": 8,
     "metadata": {},
     "output_type": "execute_result"
    }
   ],
   "source": [
    "calci.multiplication(2,7)"
   ]
  },
  {
   "cell_type": "code",
   "execution_count": 9,
   "id": "93ca45e8",
   "metadata": {},
   "outputs": [
    {
     "data": {
      "text/plain": [
       "216"
      ]
     },
     "execution_count": 9,
     "metadata": {},
     "output_type": "execute_result"
    }
   ],
   "source": [
    "calci.cube(6)"
   ]
  },
  {
   "cell_type": "markdown",
   "id": "3c7e7824",
   "metadata": {},
   "source": [
    "# Use of decorators in python:\n"
   ]
  },
  {
   "cell_type": "markdown",
   "id": "14295135",
   "metadata": {},
   "source": [
    "Decorators are an elegant way to extend functionality of our original functions without altering their source code. \n",
    "Example - In below program we are using decorator to repeat the funtion call as many times we want."
   ]
  },
  {
   "cell_type": "code",
   "execution_count": 11,
   "id": "e4d0371a",
   "metadata": {},
   "outputs": [],
   "source": [
    "# creating decorater \n",
    "def repeat(n):\n",
    "    def decorator_repeat(func):\n",
    "        for i in range(n):\n",
    "            func()\n",
    "    return decorator_repeat"
   ]
  },
  {
   "cell_type": "code",
   "execution_count": 12,
   "id": "11b1839a",
   "metadata": {},
   "outputs": [
    {
     "name": "stdout",
     "output_type": "stream",
     "text": [
      "hey Saibal, You are a data scientist\n",
      "hey Saibal, You are a data scientist\n",
      "hey Saibal, You are a data scientist\n",
      "hey Saibal, You are a data scientist\n",
      "hey Saibal, You are a data scientist\n"
     ]
    }
   ],
   "source": [
    "# function to calculate m**n\n",
    "@repeat(n=5)\n",
    "def power():\n",
    "    print(\"hey Saibal, You are a data scientist\")\n",
    "    "
   ]
  },
  {
   "cell_type": "markdown",
   "id": "67505cce",
   "metadata": {},
   "source": [
    "In below example for decorators, we are using Flask to set up a /secret web page that should only be visible to users that \n",
    "are logged in or otherwise authenticated:"
   ]
  },
  {
   "cell_type": "code",
   "execution_count": 14,
   "id": "4b511670",
   "metadata": {},
   "outputs": [
    {
     "name": "stdout",
     "output_type": "stream",
     "text": [
      "Collecting flask\n",
      "  Using cached Flask-2.1.2-py3-none-any.whl (95 kB)\n",
      "Requirement already satisfied: Jinja2>=3.0 in c:\\users\\sonuk\\anaconda3\\envs\\geo_env\\lib\\site-packages (from flask) (3.1.1)\n",
      "Collecting itsdangerous>=2.0\n",
      "  Using cached itsdangerous-2.1.2-py3-none-any.whl (15 kB)\n",
      "Requirement already satisfied: click>=8.0 in c:\\users\\sonuk\\anaconda3\\envs\\geo_env\\lib\\site-packages (from flask) (8.1.3)\n",
      "Requirement already satisfied: Werkzeug>=2.0 in c:\\users\\sonuk\\anaconda3\\envs\\geo_env\\lib\\site-packages (from flask) (2.0.3)\n",
      "Requirement already satisfied: colorama in c:\\users\\sonuk\\anaconda3\\envs\\geo_env\\lib\\site-packages (from click>=8.0->flask) (0.4.4)\n",
      "Requirement already satisfied: MarkupSafe>=2.0 in c:\\users\\sonuk\\anaconda3\\envs\\geo_env\\lib\\site-packages (from Jinja2>=3.0->flask) (2.1.1)\n",
      "Installing collected packages: itsdangerous, flask\n",
      "Successfully installed flask-2.1.2 itsdangerous-2.1.2\n",
      "Note: you may need to restart the kernel to use updated packages.\n"
     ]
    }
   ],
   "source": [
    "pip install flask"
   ]
  },
  {
   "cell_type": "code",
   "execution_count": 15,
   "id": "380a9737",
   "metadata": {},
   "outputs": [],
   "source": [
    "from flask import Flask, g, request, redirect, url_for\n",
    "import functools\n",
    "app = Flask(__name__)\n",
    "\n",
    "def login_required(func):\n",
    "    \"\"\"Make sure user is logged in before proceeding\"\"\"\n",
    "    @functools.wraps(func)\n",
    "    def wrapper_login_required(*args, **kwargs):\n",
    "        if g.user is None:\n",
    "            return redirect(url_for(\"login\", next=request.url))\n",
    "        return func(*args, **kwargs)\n",
    "    return wrapper_login_required\n",
    " \n",
    "@app.route(\"/secret\")\n",
    "@login_required\n",
    "def secret():\n",
    "    pass"
   ]
  },
  {
   "cell_type": "code",
   "execution_count": null,
   "id": "e2eb803c",
   "metadata": {},
   "outputs": [],
   "source": []
  }
 ],
 "metadata": {
  "kernelspec": {
   "display_name": "geo_env",
   "language": "python",
   "name": "geo_env"
  },
  "language_info": {
   "codemirror_mode": {
    "name": "ipython",
    "version": 3
   },
   "file_extension": ".py",
   "mimetype": "text/x-python",
   "name": "python",
   "nbconvert_exporter": "python",
   "pygments_lexer": "ipython3",
   "version": "3.10.4"
  }
 },
 "nbformat": 4,
 "nbformat_minor": 5
}
